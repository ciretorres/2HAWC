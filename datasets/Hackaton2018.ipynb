{
 "cells": [
  {
   "cell_type": "markdown",
   "metadata": {},
   "source": [
    "# Hackaton2018"
   ]
  },
  {
   "cell_type": "code",
   "execution_count": 2,
   "metadata": {},
   "outputs": [],
   "source": [
    "import pandas as pd\n",
    "import numpy as np\n",
    "\n",
    "from datascience import *\n",
    "\n",
    "from astropy import units as u\n",
    "from astropy.time import Time\n",
    "from astropy.coordinates import SkyCoord"
   ]
  },
  {
   "cell_type": "markdown",
   "metadata": {},
   "source": [
    "# Coordinates 39 gamma-ray sources\n",
    "<br>\n",
    "<br>"
   ]
  },
  {
   "cell_type": "code",
   "execution_count": 7,
   "metadata": {},
   "outputs": [
    {
     "data": {
      "text/html": [
       "<table border=\"1\" class=\"dataframe\">\n",
       "    <thead>\n",
       "        <tr>\n",
       "            <th>name</th> <th>l</th> <th>b</th> <th>RA</th> <th>Dec</th> <th>position_uncertainty</th> <th>search_radius</th> <th>TS</th> <th>flux</th> <th>flux_uncertainty</th> <th>index</th> <th>index_uncertainty</th> <th>tested_radius</th>\n",
       "        </tr>\n",
       "    </thead>\n",
       "    <tbody>\n",
       "        <tr>\n",
       "            <td> 2HWC J0534+220 </td> <td>184.547</td> <td>-5.78317</td> <td>83.6279</td> <td>22.0243</td> <td>0.0572581           </td> <td>searchR      </td> <td>11016  </td> <td>1.84708e-13</td> <td>2.377e-15       </td> <td>-2.58468</td> <td>0.0114           </td> <td>0            </td>\n",
       "        </tr>\n",
       "    </tbody>\n",
       "        <tr>\n",
       "            <td> 2HWC J0631+169 </td> <td>195.614</td> <td>3.50657 </td> <td>97.998 </td> <td>16.9968</td> <td>0.113815            </td> <td>searchR      </td> <td>29.5591</td> <td>6.7138e-15 </td> <td>1.47418e-15     </td> <td>-2.56525</td> <td>0.150992         </td> <td>0            </td>\n",
       "        </tr>\n",
       "    </tbody>\n",
       "</table>\n",
       "<p>... (38 rows omitted)</p>"
      ],
      "text/plain": [
       "<IPython.core.display.HTML object>"
      ]
     },
     "metadata": {},
     "output_type": "display_data"
    }
   ],
   "source": [
    "data_e = Table.read_table(\"./catalogue/files/2HWC.csv\")\n",
    "data_e.show(2)"
   ]
  },
  {
   "cell_type": "code",
   "execution_count": 9,
   "metadata": {},
   "outputs": [],
   "source": [
    "d = SkyCoord(ra=data_e.column(3)*u.degree, dec=data_e.column(4)*u.degree, distance=200*u.pc) # parsec"
   ]
  },
  {
   "cell_type": "code",
   "execution_count": 8,
   "metadata": {},
   "outputs": [
    {
     "data": {
      "text/html": [
       "<table border=\"1\" class=\"dataframe\">\n",
       "    <thead>\n",
       "        <tr>\n",
       "            <th>name</th> <th>l</th> <th>b</th> <th>RA</th> <th>Dec</th> <th>dist (pc)</th> <th>x</th> <th>y</th> <th>z</th>\n",
       "        </tr>\n",
       "    </thead>\n",
       "    <tbody>\n",
       "        <tr>\n",
       "            <td> 2HWC J0534+220 </td> <td>184.547</td> <td>-5.78317</td> <td>83.6279</td> <td>22.0243</td> <td>200      </td> <td>20.5772 </td> <td>184.26 </td> <td>74.99995846026627 pc </td>\n",
       "        </tr>\n",
       "    </tbody>\n",
       "        <tr>\n",
       "            <td> 2HWC J0631+169 </td> <td>195.614</td> <td>3.50657 </td> <td>97.998 </td> <td>16.9968</td> <td>200      </td> <td>-26.6122</td> <td>189.404</td> <td>58.463658826701725 pc</td>\n",
       "        </tr>\n",
       "    </tbody>\n",
       "</table>\n",
       "<p>... (38 rows omitted)</p>"
      ],
      "text/plain": [
       "<IPython.core.display.HTML object>"
      ]
     },
     "metadata": {},
     "output_type": "display_data"
    }
   ],
   "source": [
    "dist = []\n",
    "\n",
    "for i in np.arange(40):\n",
    "    dist.append(200)\n",
    "\n",
    "# Create new table\n",
    "coords = data_e.select(0,1,2,3,4)\n",
    "coords = coords.with_columns(\n",
    "    'dist (pc)', dist,\n",
    "    'x', d.cartesian.x,\n",
    "    'y', d.cartesian.y,\n",
    "    'z', d.cartesian.z\n",
    ")\n",
    "coords.show(2)"
   ]
  },
  {
   "cell_type": "code",
   "execution_count": 34,
   "metadata": {},
   "outputs": [],
   "source": [
    "coords.to_csv('2HWC_modified-2.csv') # export CSV"
   ]
  },
  {
   "cell_type": "code",
   "execution_count": null,
   "metadata": {},
   "outputs": [],
   "source": []
  },
  {
   "cell_type": "code",
   "execution_count": 29,
   "metadata": {},
   "outputs": [
    {
     "data": {
      "text/plain": [
       "<SkyCoord (ICRS): (ra, dec) in deg\n",
       "    (83.633212, 22.01446)>"
      ]
     },
     "execution_count": 29,
     "metadata": {},
     "output_type": "execute_result"
    }
   ],
   "source": [
    "SkyCoord.from_name(\"PSR J0534+220\") # CRAB NEBULAE"
   ]
  },
  {
   "cell_type": "code",
   "execution_count": 30,
   "metadata": {},
   "outputs": [
    {
     "data": {
      "text/plain": [
       "<CartesianRepresentation (x, y, z) in kpc\n",
       "    (0.20577173, 1.84259562, 0.74999958)>"
      ]
     },
     "execution_count": 30,
     "metadata": {},
     "output_type": "execute_result"
    }
   ],
   "source": [
    "# Crab nebulae\n",
    "crab_nebulae = SkyCoord(ra=83.6279*u.degree, dec=22.0243*u.degree, distance=2*u.kpc) \n",
    "crab_nebulae.cartesian"
   ]
  },
  {
   "cell_type": "code",
   "execution_count": 31,
   "metadata": {},
   "outputs": [
    {
     "data": {
      "text/plain": [
       "<CartesianRepresentation (x, y, z) in kpc\n",
       "    (-0.33265278, 2.36754719, 0.73079574)>"
      ]
     },
     "execution_count": 31,
     "metadata": {},
     "output_type": "execute_result"
    }
   ],
   "source": [
    "# Geminga\n",
    "geminga = SkyCoord(ra=97.998*u.degree, dec=16.9968*u.degree, distance=2.5*u.kpc) # parsec\n",
    "geminga.cartesian"
   ]
  },
  {
   "cell_type": "code",
   "execution_count": 33,
   "metadata": {},
   "outputs": [
    {
     "data": {
      "text/html": [
       "<table border=\"1\" class=\"dataframe\">\n",
       "    <thead>\n",
       "        <tr>\n",
       "            <th>name</th> <th>l</th> <th>b</th> <th>RA</th> <th>Dec</th> <th>dist (pc)</th> <th>x</th> <th>y</th> <th>z</th>\n",
       "        </tr>\n",
       "    </thead>\n",
       "    <tbody>\n",
       "        <tr>\n",
       "            <td> 2HWC J1104+381 </td> <td>179.945</td> <td>65.0467</td> <td>166.113</td> <td>38.1585</td> <td>200      </td> <td>-152.664</td> <td>37.7438</td> <td>123.56780557911655 pc</td>\n",
       "        </tr>\n",
       "    </tbody>\n",
       "</table>"
      ],
      "text/plain": [
       "name             | l       | b       | RA      | Dec     | dist (pc) | x        | y       | z\n",
       " 2HWC J1104+381  | 179.945 | 65.0467 | 166.113 | 38.1585 | 200       | -152.664 | 37.7438 | 123.56780557911655 pc"
      ]
     },
     "execution_count": 33,
     "metadata": {},
     "output_type": "execute_result"
    }
   ],
   "source": [
    "coords.where(0, are.equal_to(' 2HWC J1104+381 '))"
   ]
  },
  {
   "cell_type": "code",
   "execution_count": null,
   "metadata": {},
   "outputs": [],
   "source": []
  },
  {
   "cell_type": "code",
   "execution_count": null,
   "metadata": {},
   "outputs": [],
   "source": []
  },
  {
   "cell_type": "markdown",
   "metadata": {},
   "source": [
    "# Cascade event\n",
    "<br>\n",
    "<br>"
   ]
  },
  {
   "cell_type": "code",
   "execution_count": 35,
   "metadata": {},
   "outputs": [
    {
     "data": {
      "text/html": [
       "<table border=\"1\" class=\"dataframe\">\n",
       "    <thead>\n",
       "        <tr>\n",
       "            <th>1</th> <th>104.9</th> <th>0.417454</th> <th>4.124</th> <th>0.9152</th> <th>65.453</th> <th>312.821</th> <th>0.9376</th> <th>0.9064</th>\n",
       "        </tr>\n",
       "    </thead>\n",
       "    <tbody>\n",
       "        <tr>\n",
       "            <td>2   </td> <td>0.8  </td> <td>5.00243 </td> <td>4.124</td> <td>0.9152</td> <td>47.21 </td> <td>315.947</td> <td>0.9376</td> <td>0.9064</td>\n",
       "        </tr>\n",
       "    </tbody>\n",
       "        <tr>\n",
       "            <td>3   </td> <td>29.6 </td> <td>6.67574 </td> <td>4.124</td> <td>0.9152</td> <td>29.848</td> <td>315.893</td> <td>0.9376</td> <td>0.9064</td>\n",
       "        </tr>\n",
       "    </tbody>\n",
       "        <tr>\n",
       "            <td>7   </td> <td>151.3</td> <td>0.289903</td> <td>4.124</td> <td>0.9152</td> <td>78.166</td> <td>304.056</td> <td>0.9376</td> <td>0.9064</td>\n",
       "        </tr>\n",
       "    </tbody>\n",
       "</table>\n",
       "<p>... (287 rows omitted)</p>"
      ],
      "text/plain": [
       "<IPython.core.display.HTML object>"
      ]
     },
     "metadata": {},
     "output_type": "display_data"
    }
   ],
   "source": [
    "data_c = Table.read_table('./cascades/cascades/cascade_0ID_1.15412e+09s_1.11097e+08ns_Select_woF.csv')\n",
    "data_c.show(3)"
   ]
  },
  {
   "cell_type": "code",
   "execution_count": 36,
   "metadata": {},
   "outputs": [
    {
     "data": {
      "text/plain": [
       "array([8.00000e-01, 2.96000e+01, 1.51300e+02, 1.72000e+01, 9.20000e+00,\n",
       "       7.30000e+00, 1.25100e+02, 1.86000e+01, 3.37000e+01, 6.24000e+01,\n",
       "       7.00000e-01, 7.00000e-01, 0.00000e+00, 2.38000e+01, 2.72000e+01,\n",
       "       9.40000e+00, 1.76000e+01, 4.10000e+00, 1.74000e+01, 2.96000e+02,\n",
       "       3.30000e+00, 3.50000e+00, 1.20000e+01, 1.06000e+01, 4.05000e+01,\n",
       "       8.09000e+01, 1.76000e+01, 4.04000e+01, 2.41000e+01, 4.55000e+01,\n",
       "       1.07000e+01, 2.79000e+01, 3.08000e+01, 1.00000e+00, 5.50000e+00,\n",
       "       2.30000e+00, 5.40000e+00, 1.30000e+00, 5.60000e+00, 0.00000e+00,\n",
       "       5.01000e+01, 8.65000e+01, 3.20000e+01, 9.28000e+01, 2.75000e+01,\n",
       "       2.92000e+01, 2.34000e+01, 8.23000e+01, 4.06000e+01, 3.34600e+02,\n",
       "       3.80000e+00, 5.50000e+00, 3.09000e+01, 1.05000e+01, 3.40000e+00,\n",
       "       2.59900e+02, 7.06000e+02, 6.70000e+01, 3.77000e+01, 3.62000e+01,\n",
       "       2.99000e+01, 2.35000e+01, 4.59000e+01, 5.08000e+01, 2.89000e+01,\n",
       "       5.80000e+00, 3.37000e+01, 7.00000e+00, 1.90000e+00, 2.50000e+00,\n",
       "       4.00000e+00, 1.76000e+01, 7.70000e+01, 2.33000e+02, 4.32000e+01,\n",
       "       8.63000e+01, 1.55300e+02, 4.05000e+01, 2.89000e+01, 3.43000e+01,\n",
       "       1.92000e+01, 1.35000e+01, 6.30000e+00, 5.11000e+01, 0.00000e+00,\n",
       "       4.70000e+00, 5.50000e+00, 7.00000e-01, 9.00000e-01, 2.66000e+01,\n",
       "       4.51000e+01, 3.15000e+02, 2.83200e+02, 1.30100e+02, 1.70300e+02,\n",
       "       3.12000e+01, 7.48000e+01, 4.06800e+02, 1.47000e+01, 8.00000e-01,\n",
       "       1.73000e+01, 1.22000e+01, 5.42000e+01, 1.00000e+01, 1.03000e+01,\n",
       "       5.50000e+00, 5.80000e+00, 0.00000e+00, 1.10900e+02, 9.96000e+01,\n",
       "       1.58600e+02, 1.95000e+02, 1.67500e+02, 1.73000e+02, 2.15400e+02,\n",
       "       1.07900e+02, 3.34100e+02, 5.60000e+01, 2.10000e+01, 4.96000e+01,\n",
       "       1.78000e+01, 1.45000e+01, 5.90000e+00, 7.40000e+00, 1.50000e+00,\n",
       "       1.35500e+02, 1.59500e+02, 2.67400e+02, 1.11100e+02, 1.82300e+02,\n",
       "       7.38000e+01, 4.08600e+02, 2.24000e+01, 1.81100e+02, 1.18100e+02,\n",
       "       7.73000e+01, 6.00000e-01, 1.30000e+00, 2.10000e+01, 1.61000e+01,\n",
       "       7.97000e+01, 9.60000e+01, 1.51300e+02, 5.26400e+02, 1.86800e+02,\n",
       "       6.13500e+02, 3.07600e+02, 3.85100e+02, 1.71100e+02, 6.25000e+01,\n",
       "       4.07000e+01, 7.29000e+01, 2.29800e+02, 2.10000e+01, 1.08000e+01,\n",
       "       6.00000e-01, 2.20000e+00, 4.50000e+00, 6.24000e+01, 3.93000e+01,\n",
       "       6.90000e+01, 1.75800e+02, 7.09300e+02, 1.95100e+02, 3.31600e+02,\n",
       "       4.76500e+02, 1.33100e+02, 1.73800e+02, 1.15700e+02, 1.07200e+02,\n",
       "       8.33000e+01, 1.68000e+01, 3.04000e+01, 1.50000e+00, 3.30000e+00,\n",
       "       1.40000e+00, 1.20000e+00, 7.44000e+01, 8.48000e+01, 1.31100e+02,\n",
       "       1.58600e+02, 1.00000e+00, 6.00000e-01, 8.36000e+02, 4.41700e+02,\n",
       "       5.08000e+01, 2.26200e+02, 2.13300e+02, 1.02800e+02, 1.32000e+01,\n",
       "       1.83000e+01, 1.19000e+01, 1.38000e+01, 9.40000e+00, 1.46000e+01,\n",
       "       1.09800e+02, 1.28400e+02, 1.30707e+04, 1.22727e+04, 5.73400e+02,\n",
       "       1.62180e+03, 2.00000e+00, 1.20370e+03, 4.91500e+02, 8.21600e+02,\n",
       "       1.09200e+02, 1.54100e+02, 2.22700e+02, 7.34000e+01, 3.37000e+01,\n",
       "       3.95000e+01, 2.16000e+01, 1.45000e+01, 1.35000e+01, 1.21000e+02,\n",
       "       7.09000e+01, 9.78000e+01, 4.04000e+02, 1.44210e+03, 8.43500e+02,\n",
       "       1.62710e+03, 1.84350e+03, 6.15000e+02, 3.14200e+02, 3.89000e+02,\n",
       "       9.79400e+02, 5.83700e+02, 3.18000e+01, 2.20000e+01, 4.61000e+01,\n",
       "       8.00000e-01, 2.75000e+01, 4.59000e+01, 9.92000e+01, 2.78600e+02,\n",
       "       4.24200e+02, 8.16000e+02, 2.11300e+03, 3.12710e+03, 4.23070e+03,\n",
       "       8.43920e+03, 7.41100e+02, 3.52000e+02, 3.29200e+02, 2.24800e+02,\n",
       "       1.74700e+02, 8.67000e+01, 3.78000e+01, 5.94000e+01, 3.40000e+01,\n",
       "       6.09900e+02, 2.06600e+02, 1.39510e+03, 3.89670e+03, 7.76600e+03,\n",
       "       1.50400e+03, 7.11400e+02, 1.03950e+03, 3.38600e+02, 2.30100e+02,\n",
       "       5.00000e+01, 1.48400e+02, 1.03000e+01, 1.30000e+00, 3.57000e+01,\n",
       "       7.30000e+02, 1.87570e+03, 4.61530e+03, 6.00000e-01, 6.00010e+03,\n",
       "       0.00000e+00, 1.30010e+03, 5.77600e+02, 8.33400e+02, 1.61500e+02,\n",
       "       2.54000e+02, 5.06000e+01, 2.56000e+01, 3.31000e+01, 3.66020e+03,\n",
       "       1.39180e+03, 5.49400e+02, 5.27600e+02, 1.99900e+02, 2.29600e+02,\n",
       "       1.81200e+02, 2.20100e+02, 1.91000e+01, 7.29000e+01, 3.11000e+01])"
      ]
     },
     "execution_count": 36,
     "metadata": {},
     "output_type": "execute_result"
    }
   ],
   "source": [
    "amp_pulso = data_c.column(1)\n",
    "amp_pulso"
   ]
  },
  {
   "cell_type": "markdown",
   "metadata": {},
   "source": [
    "# Lightcurve J0631+220\n",
    "<br>\n",
    "<br>"
   ]
  },
  {
   "cell_type": "code",
   "execution_count": 15,
   "metadata": {},
   "outputs": [
    {
     "name": "stdout",
     "output_type": "stream",
     "text": [
      "# MJD start  MJD stop  flux+/-err [cm^-2 s^-1]  flux+/-err [CU]  transits  index  cut-off   TS(bkg)\n",
      "56988.1937  56988.4431    2.452e-11  5.149e-12    1.298  0.273    1.000    2.63  1000000.0   43.79\n"
     ]
    }
   ],
   "source": [
    "data_a = Table.read_table(\"./lightcurves/HAWC_fluxlc_Crab_2014-11-26_2016-06-02_1days_si2.63_co1000000_int1.00TeV_mintransits0.50.dat\")\n",
    "#data_a = Table.read_table(\"./lightcurves/HAWC_fluxlc_Mrk421_2014-11-26_2016-06-02_1days_si2.2_co5_int2.00TeV_mintransits0.50.dat\")\n",
    "#data_a = Table.read_table(\"./lightcurves/HAWC_fluxlc_Mrk501_2014-11-26_2016-06-02_1days_si1.6_co6_int3.00TeV_mintransits0.50.dat\")\n",
    "print(data_a.row(3)[0])\n",
    "print(data_a.row(4)[0])\n",
    "#print(data_a.row(5)[0])"
   ]
  },
  {
   "cell_type": "code",
   "execution_count": 14,
   "metadata": {},
   "outputs": [
    {
     "data": {
      "text/html": [
       "<table border=\"1\" class=\"dataframe\">\n",
       "    <thead>\n",
       "        <tr>\n",
       "            <th>flux+ [cm^-2 s^-1]</th>\n",
       "        </tr>\n",
       "    </thead>\n",
       "    <tbody>\n",
       "        <tr>\n",
       "            <td>2.452e-11         </td>\n",
       "        </tr>\n",
       "    </tbody>\n",
       "        <tr>\n",
       "            <td>1.955e-11         </td>\n",
       "        </tr>\n",
       "    </tbody>\n",
       "</table>\n",
       "<p>... (470 rows omitted)</p>"
      ],
      "text/plain": [
       "<IPython.core.display.HTML object>"
      ]
     },
     "metadata": {},
     "output_type": "display_data"
    }
   ],
   "source": [
    "new = []\n",
    "flux = []\n",
    "blanco = []\n",
    "\n",
    "for i in np.arange(479):\n",
    "    blanco.append(\" \")\n",
    "    \n",
    "for i in np.arange(4, data_a.num_rows):\n",
    "    # Mención a Emmanuel Anguiano-Hernández @mecanosaurio\n",
    "    new = [float(a) for a  in data_a.row(i)[0].split() if a != ' ' ] \n",
    "    flux.append(new[2])\n",
    "    #print(i, flux)\n",
    "\n",
    "# Create table\n",
    "crab_flux = Table().with_column(\n",
    "    'flux+ [cm^-2 s^-1]', flux,\n",
    "    #'-err [cm^-2 s^-1]', flux,\n",
    "    #'Blanco', blanco\n",
    ")\n",
    "crab_flux.to_csv('HAWC_fluxlc_Crab_.csv') # export to CSV\n",
    "crab_flux.show(2)"
   ]
  },
  {
   "cell_type": "code",
   "execution_count": 13,
   "metadata": {},
   "outputs": [
    {
     "data": {
      "text/plain": [
       "1.265e-12"
      ]
     },
     "execution_count": 13,
     "metadata": {},
     "output_type": "execute_result"
    }
   ],
   "source": [
    "crab_flux.column(0).min()"
   ]
  },
  {
   "cell_type": "code",
   "execution_count": 40,
   "metadata": {},
   "outputs": [
    {
     "data": {
      "text/plain": [
       "4.14e-11"
      ]
     },
     "execution_count": 40,
     "metadata": {},
     "output_type": "execute_result"
    }
   ],
   "source": [
    "crab_flux.column(0).max()"
   ]
  },
  {
   "cell_type": "code",
   "execution_count": 41,
   "metadata": {},
   "outputs": [
    {
     "data": {
      "text/plain": [
       "1.9378135593220336e-11"
      ]
     },
     "execution_count": 41,
     "metadata": {},
     "output_type": "execute_result"
    }
   ],
   "source": [
    "np.average(crab_flux.column(0))"
   ]
  },
  {
   "cell_type": "code",
   "execution_count": 42,
   "metadata": {},
   "outputs": [
    {
     "data": {
      "text/plain": [
       "'2016:111:19:05:57.120'"
      ]
     },
     "execution_count": 42,
     "metadata": {},
     "output_type": "execute_result"
    }
   ],
   "source": [
    "MJD_start = Time(new[0], format ='mjd')\n",
    "MJD_stop = Time(new[1], format ='mjd')\n",
    "\n",
    "myMJD_01 = Time(56989.191, format ='mjd')\n",
    "myMJD_02 = Time(56989.4403, format ='mjd')\n",
    "\n",
    "MJD_year_1 = Time(57000, format ='mjd')\n",
    "MJD_year_2 = Time(57400, format ='mjd')\n",
    "\n",
    "MJD_start.yday"
   ]
  },
  {
   "cell_type": "code",
   "execution_count": 43,
   "metadata": {},
   "outputs": [
    {
     "data": {
      "text/plain": [
       "'2016:112:01:04:56.640'"
      ]
     },
     "execution_count": 43,
     "metadata": {},
     "output_type": "execute_result"
    }
   ],
   "source": [
    "MJD_stop.yday"
   ]
  },
  {
   "cell_type": "code",
   "execution_count": 44,
   "metadata": {},
   "outputs": [
    {
     "name": "stdout",
     "output_type": "stream",
     "text": [
      "2014:332:04:35:02.400\n",
      "2014:332:10:34:01.920\n"
     ]
    }
   ],
   "source": [
    "print(myMJD_01.yday)\n",
    "print(myMJD_02.yday)"
   ]
  },
  {
   "cell_type": "code",
   "execution_count": 45,
   "metadata": {},
   "outputs": [
    {
     "name": "stdout",
     "output_type": "stream",
     "text": [
      "2014:343:00:00:00.000\n",
      "2016:013:00:00:00.000\n"
     ]
    }
   ],
   "source": [
    "print(MJD_year_1.yday)\n",
    "print(MJD_year_2.yday)"
   ]
  },
  {
   "cell_type": "code",
   "execution_count": null,
   "metadata": {},
   "outputs": [],
   "source": []
  },
  {
   "cell_type": "code",
   "execution_count": null,
   "metadata": {},
   "outputs": [],
   "source": []
  }
 ],
 "metadata": {
  "kernelspec": {
   "display_name": "Python 3",
   "language": "python",
   "name": "python3"
  },
  "language_info": {
   "codemirror_mode": {
    "name": "ipython",
    "version": 3
   },
   "file_extension": ".py",
   "mimetype": "text/x-python",
   "name": "python",
   "nbconvert_exporter": "python",
   "pygments_lexer": "ipython3",
   "version": "3.6.4"
  }
 },
 "nbformat": 4,
 "nbformat_minor": 2
}
